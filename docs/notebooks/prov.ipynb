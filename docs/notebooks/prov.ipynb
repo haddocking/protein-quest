{
 "cells": [
  {
   "cell_type": "markdown",
   "id": "d777ff0a",
   "metadata": {},
   "source": [
    "# Create RO-Crate for multiple commands\n",
    "\n",
    "Run all commands in README in ./session dir\n",
    "\n",
    "Create script crate see https://www.researchobject.org/ro-crate/specification/1.2/workflows.html and https://github.com/ResearchObject/ro-crate-py/issues/148\n",
    "https://www.researchobject.org/ro-crate/specification/1.2/provenance.html#software-used-to-create-files"
   ]
  },
  {
   "cell_type": "code",
   "execution_count": 121,
   "id": "4f9171b3",
   "metadata": {},
   "outputs": [],
   "source": [
    "from pathlib import Path\n",
    "\n",
    "from rocrate.rocrate import ROCrate"
   ]
  },
  {
   "cell_type": "code",
   "execution_count": 122,
   "id": "0bb6f6ce",
   "metadata": {},
   "outputs": [],
   "source": [
    "instrument = \"https://pypi.org/project/protein-quest/0.3.0/\""
   ]
  },
  {
   "cell_type": "code",
   "execution_count": 123,
   "id": "7cdf5a41",
   "metadata": {},
   "outputs": [],
   "source": [
    "root = Path(\"./session\")\n",
    "accs = root / \"uniprot_accs.txt\""
   ]
  },
  {
   "cell_type": "code",
   "execution_count": 124,
   "id": "236babc1",
   "metadata": {},
   "outputs": [],
   "source": [
    "crate = ROCrate()"
   ]
  },
  {
   "cell_type": "code",
   "execution_count": 125,
   "id": "e06b4bc8",
   "metadata": {},
   "outputs": [
    {
     "data": {
      "text/plain": [
       "<#f3357f37-566c-4ff9-98be-c9f7bf5dae60 CreateAction>"
      ]
     },
     "execution_count": 125,
     "metadata": {},
     "output_type": "execute_result"
    }
   ],
   "source": [
    "uniprot_accs = crate.add_file(\n",
    "    accs, properties={\"name\": accs.name, \"description\": \"UniProt accession numbers\", \"encodingFormat\": \"text/plain\"}\n",
    ")\n",
    "crate.add_action(\n",
    "    instrument=instrument,\n",
    "    properties={\n",
    "        \"name\": \"protein-quest search uniprot\",\n",
    "        \"description\": \"protein-quest search uniprot --taxon-id 9606 --reviewed --subcellular-location-uniprot nucleus --subcellular-location-go GO:0005634 --molecular-function-go GO:0003677 --limit 100 uniprot_accs.txt\",\n",
    "    },\n",
    "    result=[uniprot_accs],\n",
    ")"
   ]
  },
  {
   "cell_type": "code",
   "execution_count": 126,
   "id": "ff68baad",
   "metadata": {},
   "outputs": [
    {
     "data": {
      "text/plain": [
       "<#c9264b3d-1244-42c0-9975-19ec0d89e4d8 CreateAction>"
      ]
     },
     "execution_count": 126,
     "metadata": {},
     "output_type": "execute_result"
    }
   ],
   "source": [
    "pdbs_csv = root / \"pdbe.csv\"\n",
    "pdbs = crate.add_file(\n",
    "    pdbs_csv, properties={\"name\": pdbs_csv.name, \"description\": \"PDBe PDB IDs\", \"encodingFormat\": \"text/csv\"}\n",
    ")\n",
    "crate.add_action(\n",
    "    instrument=instrument,\n",
    "    properties={\n",
    "        \"name\": \"protein-quest search pdbe\",\n",
    "        \"description\": \"protein-quest search pdbe uniprot_accs.txt pdbe.csv\",\n",
    "    },\n",
    "    object=[uniprot_accs],\n",
    "    result=[pdbs],\n",
    ")"
   ]
  },
  {
   "cell_type": "code",
   "execution_count": 127,
   "id": "47e9fd02",
   "metadata": {},
   "outputs": [
    {
     "data": {
      "text/plain": [
       "<#4add11e1-74b7-4f71-9b8e-19ef067e4380 CreateAction>"
      ]
     },
     "execution_count": 127,
     "metadata": {},
     "output_type": "execute_result"
    }
   ],
   "source": [
    "# protein-quest retrieve pdbe pdbe.csv downloads-pdbe/\n",
    "pdb_dls = root / \"downloads-pdbe\"\n",
    "pdb_dls_dir = crate.add_directory(\n",
    "    pdb_dls,\n",
    "    properties={\n",
    "        \"name\": pdb_dls.name,\n",
    "        \"description\": \"Downloaded PDBe gzipped mmcif files\",\n",
    "        \"encodingFormat\": \"application/gzip\",\n",
    "    },\n",
    ")\n",
    "crate.add_action(\n",
    "    instrument=instrument,\n",
    "    properties={\n",
    "        \"name\": \"protein-quest retrieve pdbe\",\n",
    "        \"description\": \"protein-quest retrieve pdbe pdbe.csv downloads-pdbe/\",\n",
    "    },\n",
    "    object=[pdbs],\n",
    "    result=[pdb_dls_dir],\n",
    ")"
   ]
  },
  {
   "cell_type": "code",
   "execution_count": 128,
   "id": "f75bcd0a",
   "metadata": {},
   "outputs": [
    {
     "data": {
      "text/plain": [
       "<#26dde304-7809-4f5d-836d-efdda8f0efdd CreateAction>"
      ]
     },
     "execution_count": 128,
     "metadata": {},
     "output_type": "execute_result"
    }
   ],
   "source": [
    "# protein-quest filter chain pdbe.csv  ./downloads-pdbe ./filtered-chains\n",
    "fc_p = root / \"filtered-chains\"\n",
    "fc_d = crate.add_directory(\n",
    "    fc_p,\n",
    "    properties={\n",
    "        \"name\": fc_p.name,\n",
    "        \"description\": \"Filtered structures by chain\",\n",
    "        \"encodingFormat\": \"application/gzip\",\n",
    "    },\n",
    ")\n",
    "crate.add_action(\n",
    "    instrument=instrument,\n",
    "    properties={\n",
    "        \"name\": \"protein-quest filter chain\",\n",
    "        \"description\": \"protein-quest filter chain pdbe.csv  ./downloads-pdbe ./filtered-chains\",\n",
    "    },\n",
    "    object=[pdbs, pdb_dls_dir],\n",
    "    result=[fc_d],\n",
    ")"
   ]
  },
  {
   "cell_type": "code",
   "execution_count": null,
   "id": "bfa0cc4c",
   "metadata": {},
   "outputs": [],
   "source": [
    "# TODO add endTime parameter to each action\n",
    "crate.write(accs.parent)"
   ]
  },
  {
   "cell_type": "code",
   "execution_count": null,
   "id": "8718a860",
   "metadata": {},
   "outputs": [],
   "source": []
  }
 ],
 "metadata": {
  "kernelspec": {
   "display_name": "protein-quest",
   "language": "python",
   "name": "python3"
  },
  "language_info": {
   "codemirror_mode": {
    "name": "ipython",
    "version": 3
   },
   "file_extension": ".py",
   "mimetype": "text/x-python",
   "name": "python",
   "nbconvert_exporter": "python",
   "pygments_lexer": "ipython3",
   "version": "3.13.2"
  }
 },
 "nbformat": 4,
 "nbformat_minor": 5
}
